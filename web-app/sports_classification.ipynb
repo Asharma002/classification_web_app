{
 "cells": [
  {
   "cell_type": "code",
   "execution_count": 1,
   "id": "pacific-stevens",
   "metadata": {},
   "outputs": [],
   "source": [
    "%matplotlib inline\n",
    "%config InlineBackend.figure_format = 'retina'\n",
    "import os\n",
    "import glob\n",
    "import json\n",
    "import numpy as np\n",
    "import pandas as pd\n",
    "import matplotlib.pyplot as plt\n",
    "import tensorflow as tf\n",
    "import cv2\n",
    "from tensorflow.keras.preprocessing.image import ImageDataGenerator\n",
    "from tensorflow.keras import  applications\n",
    "from tensorflow.keras.models import Sequential\n",
    "from tensorflow.keras.layers import Conv2D,Conv1D, MaxPool2D,GlobalAveragePooling2D, Flatten, Dense, Dropout, BatchNormalization\n",
    "from tensorflow.keras.callbacks import ModelCheckpoint, EarlyStopping, ReduceLROnPlateau\n",
    "from tensorflow.keras.optimizers import Adam\n",
    "\n",
    "import warnings\n",
    "warnings.filterwarnings('ignore')\n",
    "import random\n",
    "import logging\n",
    "logger = tf.get_logger()\n",
    "logger.setLevel(logging.ERROR)\n",
    "import glob\n",
    "import shutil\n",
    "import os\n",
    "import itertools\n",
    "from sklearn.metrics import confusion_matrix ,classification_report"
   ]
  },
  {
   "cell_type": "code",
   "execution_count": 2,
   "id": "hollow-february",
   "metadata": {},
   "outputs": [],
   "source": [
    "# import sys \n",
    "# !{sys.executable} -m pip install tensorflow==1.15.0"
   ]
  },
  {
   "cell_type": "code",
   "execution_count": null,
   "id": "rotary-orbit",
   "metadata": {},
   "outputs": [],
   "source": []
  },
  {
   "cell_type": "code",
   "execution_count": 3,
   "id": "hydraulic-grave",
   "metadata": {},
   "outputs": [],
   "source": [
    "# import sys \n",
    "# !{sys.executable} -m pip install tensorflow==1.15.0"
   ]
  },
  {
   "cell_type": "code",
   "execution_count": 4,
   "id": "intellectual-thirty",
   "metadata": {},
   "outputs": [
    {
     "name": "stdout",
     "output_type": "stream",
     "text": [
      "2.5.0\n"
     ]
    }
   ],
   "source": [
    "import tensorflow as tf\n",
    "print(tf.__version__)"
   ]
  },
  {
   "cell_type": "code",
   "execution_count": 7,
   "id": "experimental-process",
   "metadata": {},
   "outputs": [],
   "source": [
    "train_path='C:/Users/KIIT/OneDrive/Desktop/deploy/train'"
   ]
  },
  {
   "cell_type": "code",
   "execution_count": 8,
   "id": "arbitrary-cooperation",
   "metadata": {},
   "outputs": [
    {
     "name": "stdout",
     "output_type": "stream",
     "text": [
      "Found 359 images belonging to 3 classes.\n"
     ]
    }
   ],
   "source": [
    "train_batches=ImageDataGenerator(preprocessing_function=tf.keras.applications.mobilenet.preprocess_input).flow_from_directory(directory=train_path,target_size= (224,224),batch_size=10,shuffle=False)"
   ]
  },
  {
   "cell_type": "code",
   "execution_count": 10,
   "id": "protective-child",
   "metadata": {},
   "outputs": [],
   "source": [
    "test_path='C:/Users/KIIT/OneDrive/Desktop/deploy/test'"
   ]
  },
  {
   "cell_type": "code",
   "execution_count": 11,
   "id": "absolute-girlfriend",
   "metadata": {},
   "outputs": [
    {
     "name": "stdout",
     "output_type": "stream",
     "text": [
      "Found 15 images belonging to 3 classes.\n"
     ]
    }
   ],
   "source": [
    "test_batches=ImageDataGenerator(preprocessing_function=tf.keras.applications.mobilenet.preprocess_input).flow_from_directory(directory=test_path,target_size= (224,224),batch_size=10,shuffle=False)"
   ]
  },
  {
   "cell_type": "code",
   "execution_count": 12,
   "id": "tamil-semester",
   "metadata": {},
   "outputs": [],
   "source": [
    "from tensorflow.keras.applications.mobilenet_v2 import MobileNetV2\n",
    "\n",
    "base = MobileNetV2(weights = 'imagenet', include_top = False, input_shape = (224, 224, 3))\n",
    "tf.keras.backend.clear_session()\n",
    "    \n",
    "for layer in base.layers:\n",
    "    layer.trainable =  False\n",
    "\n",
    "mobilenet_model = Sequential()\n",
    "mobilenet_model.add(base)\n",
    "mobilenet_model.add(GlobalAveragePooling2D())\n",
    "\n",
    "mobilenet_model.add(Dense(256, activation='relu'))\n",
    "mobilenet_model.add(Dropout(0.1))\n",
    "\n",
    "mobilenet_model.add(Dense(256, activation='relu'))\n",
    "mobilenet_model.add(Dropout(0.1))\n",
    "mobilenet_model.add(Dense(3, activation='softmax'))"
   ]
  },
  {
   "cell_type": "code",
   "execution_count": 13,
   "id": "criminal-hollow",
   "metadata": {},
   "outputs": [
    {
     "name": "stdout",
     "output_type": "stream",
     "text": [
      "Model: \"sequential\"\n",
      "_________________________________________________________________\n",
      "Layer (type)                 Output Shape              Param #   \n",
      "=================================================================\n",
      "mobilenetv2_1.00_224 (Functi (None, 7, 7, 1280)        2257984   \n",
      "_________________________________________________________________\n",
      "global_average_pooling2d (Gl (None, 1280)              0         \n",
      "_________________________________________________________________\n",
      "dense (Dense)                (None, 256)               327936    \n",
      "_________________________________________________________________\n",
      "dropout (Dropout)            (None, 256)               0         \n",
      "_________________________________________________________________\n",
      "dense_1 (Dense)              (None, 256)               65792     \n",
      "_________________________________________________________________\n",
      "dropout_1 (Dropout)          (None, 256)               0         \n",
      "_________________________________________________________________\n",
      "dense_2 (Dense)              (None, 3)                 771       \n",
      "=================================================================\n",
      "Total params: 2,652,483\n",
      "Trainable params: 394,499\n",
      "Non-trainable params: 2,257,984\n",
      "_________________________________________________________________\n"
     ]
    }
   ],
   "source": [
    "mobilenet_model.summary()"
   ]
  },
  {
   "cell_type": "code",
   "execution_count": 14,
   "id": "worth-integer",
   "metadata": {},
   "outputs": [
    {
     "name": "stdout",
     "output_type": "stream",
     "text": [
      "Epoch 1/10\n",
      "36/36 [==============================] - 9s 176ms/step - loss: 0.9012 - accuracy: 0.5989\n",
      "Epoch 2/10\n",
      "36/36 [==============================] - 8s 223ms/step - loss: 0.4478 - accuracy: 0.9025\n",
      "Epoch 3/10\n",
      "36/36 [==============================] - 8s 223ms/step - loss: 0.2394 - accuracy: 0.9471\n",
      "Epoch 4/10\n",
      "36/36 [==============================] - 8s 228ms/step - loss: 0.1598 - accuracy: 0.9582\n",
      "Epoch 5/10\n",
      "36/36 [==============================] - 8s 217ms/step - loss: 0.0997 - accuracy: 0.9861\n",
      "Epoch 6/10\n",
      "36/36 [==============================] - 8s 226ms/step - loss: 0.0673 - accuracy: 0.9944\n",
      "Epoch 7/10\n",
      "36/36 [==============================] - 8s 217ms/step - loss: 0.0497 - accuracy: 0.99720s - loss: 0.0459 - accuracy: \n",
      "Epoch 8/10\n",
      "36/36 [==============================] - 8s 212ms/step - loss: 0.0370 - accuracy: 0.9972\n",
      "Epoch 9/10\n",
      "36/36 [==============================] - 8s 225ms/step - loss: 0.0312 - accuracy: 1.0000\n",
      "Epoch 10/10\n",
      "36/36 [==============================] - 8s 228ms/step - loss: 0.0229 - accuracy: 0.9972\n"
     ]
    }
   ],
   "source": [
    "mobilenet_model.compile(optimizer=Adam(learning_rate=0.0001),loss='categorical_crossentropy',metrics=['accuracy'])\n",
    "results=mobilenet_model.fit(train_batches,epochs=10)  "
   ]
  },
  {
   "cell_type": "code",
   "execution_count": 15,
   "id": "colored-waterproof",
   "metadata": {},
   "outputs": [
    {
     "name": "stdout",
     "output_type": "stream",
     "text": [
      "2/2 [==============================] - 1s 125ms/step - loss: 0.0133 - accuracy: 1.0000\n"
     ]
    },
    {
     "data": {
      "text/plain": [
       "[0.01334297563880682, 1.0]"
      ]
     },
     "execution_count": 15,
     "metadata": {},
     "output_type": "execute_result"
    }
   ],
   "source": [
    "mobilenet_model.evaluate(test_batches)"
   ]
  },
  {
   "cell_type": "code",
   "execution_count": 16,
   "id": "forty-hybrid",
   "metadata": {},
   "outputs": [],
   "source": [
    "mobilenet_model.save('my_model.h5')"
   ]
  },
  {
   "cell_type": "code",
   "execution_count": null,
   "id": "constitutional-korean",
   "metadata": {},
   "outputs": [],
   "source": []
  },
  {
   "cell_type": "code",
   "execution_count": null,
   "id": "lonely-forestry",
   "metadata": {},
   "outputs": [],
   "source": []
  },
  {
   "cell_type": "code",
   "execution_count": null,
   "id": "tested-blend",
   "metadata": {},
   "outputs": [],
   "source": []
  },
  {
   "cell_type": "code",
   "execution_count": null,
   "id": "billion-romance",
   "metadata": {},
   "outputs": [],
   "source": []
  },
  {
   "cell_type": "code",
   "execution_count": null,
   "id": "configured-diversity",
   "metadata": {},
   "outputs": [],
   "source": []
  },
  {
   "cell_type": "code",
   "execution_count": null,
   "id": "searching-calcium",
   "metadata": {},
   "outputs": [],
   "source": []
  },
  {
   "cell_type": "code",
   "execution_count": null,
   "id": "every-palestine",
   "metadata": {},
   "outputs": [],
   "source": []
  },
  {
   "cell_type": "code",
   "execution_count": null,
   "id": "effective-circus",
   "metadata": {},
   "outputs": [],
   "source": []
  },
  {
   "cell_type": "code",
   "execution_count": null,
   "id": "eleven-pierce",
   "metadata": {},
   "outputs": [],
   "source": []
  },
  {
   "cell_type": "code",
   "execution_count": null,
   "id": "charitable-bennett",
   "metadata": {},
   "outputs": [],
   "source": []
  }
 ],
 "metadata": {
  "kernelspec": {
   "display_name": "Python 3",
   "language": "python",
   "name": "python3"
  },
  "language_info": {
   "codemirror_mode": {
    "name": "ipython",
    "version": 3
   },
   "file_extension": ".py",
   "mimetype": "text/x-python",
   "name": "python",
   "nbconvert_exporter": "python",
   "pygments_lexer": "ipython3",
   "version": "3.9.1"
  }
 },
 "nbformat": 4,
 "nbformat_minor": 5
}
